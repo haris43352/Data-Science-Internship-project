{
 "cells": [
  {
   "cell_type": "code",
   "execution_count": 64,
   "id": "8d022c2b-1272-4d47-8656-e281780c2c89",
   "metadata": {},
   "outputs": [],
   "source": [
    "import pandas as pd\n",
    "import numpy as np\n",
    "import matplotlib.pyplot as plt"
   ]
  },
  {
   "cell_type": "code",
   "execution_count": 65,
   "id": "76b0020d-ba6b-47fb-9f33-51c6a696be56",
   "metadata": {},
   "outputs": [],
   "source": [
    "df=pd.read_csv(\"C:/Users/Abdullah/Desktop/HousingData.csv\")"
   ]
  },
  {
   "cell_type": "code",
   "execution_count": 66,
   "id": "a5eecc13-c2bc-4146-84e4-d588ec69daad",
   "metadata": {},
   "outputs": [
    {
     "data": {
      "text/html": [
       "<div>\n",
       "<style scoped>\n",
       "    .dataframe tbody tr th:only-of-type {\n",
       "        vertical-align: middle;\n",
       "    }\n",
       "\n",
       "    .dataframe tbody tr th {\n",
       "        vertical-align: top;\n",
       "    }\n",
       "\n",
       "    .dataframe thead th {\n",
       "        text-align: right;\n",
       "    }\n",
       "</style>\n",
       "<table border=\"1\" class=\"dataframe\">\n",
       "  <thead>\n",
       "    <tr style=\"text-align: right;\">\n",
       "      <th></th>\n",
       "      <th>CRIM</th>\n",
       "      <th>ZN</th>\n",
       "      <th>INDUS</th>\n",
       "      <th>CHAS</th>\n",
       "      <th>NOX</th>\n",
       "      <th>RM</th>\n",
       "      <th>AGE</th>\n",
       "      <th>DIS</th>\n",
       "      <th>RAD</th>\n",
       "      <th>TAX</th>\n",
       "      <th>PTRATIO</th>\n",
       "      <th>B</th>\n",
       "      <th>LSTAT</th>\n",
       "      <th>MEDV</th>\n",
       "    </tr>\n",
       "  </thead>\n",
       "  <tbody>\n",
       "    <tr>\n",
       "      <th>0</th>\n",
       "      <td>0.00632</td>\n",
       "      <td>18.0</td>\n",
       "      <td>2.31</td>\n",
       "      <td>0.0</td>\n",
       "      <td>0.538</td>\n",
       "      <td>6.575</td>\n",
       "      <td>65.2</td>\n",
       "      <td>4.0900</td>\n",
       "      <td>1</td>\n",
       "      <td>296</td>\n",
       "      <td>15.3</td>\n",
       "      <td>396.90</td>\n",
       "      <td>4.98</td>\n",
       "      <td>24.0</td>\n",
       "    </tr>\n",
       "    <tr>\n",
       "      <th>1</th>\n",
       "      <td>0.02731</td>\n",
       "      <td>0.0</td>\n",
       "      <td>7.07</td>\n",
       "      <td>0.0</td>\n",
       "      <td>0.469</td>\n",
       "      <td>6.421</td>\n",
       "      <td>78.9</td>\n",
       "      <td>4.9671</td>\n",
       "      <td>2</td>\n",
       "      <td>242</td>\n",
       "      <td>17.8</td>\n",
       "      <td>396.90</td>\n",
       "      <td>9.14</td>\n",
       "      <td>21.6</td>\n",
       "    </tr>\n",
       "    <tr>\n",
       "      <th>2</th>\n",
       "      <td>0.02729</td>\n",
       "      <td>0.0</td>\n",
       "      <td>7.07</td>\n",
       "      <td>0.0</td>\n",
       "      <td>0.469</td>\n",
       "      <td>7.185</td>\n",
       "      <td>61.1</td>\n",
       "      <td>4.9671</td>\n",
       "      <td>2</td>\n",
       "      <td>242</td>\n",
       "      <td>17.8</td>\n",
       "      <td>392.83</td>\n",
       "      <td>4.03</td>\n",
       "      <td>34.7</td>\n",
       "    </tr>\n",
       "    <tr>\n",
       "      <th>3</th>\n",
       "      <td>0.03237</td>\n",
       "      <td>0.0</td>\n",
       "      <td>2.18</td>\n",
       "      <td>0.0</td>\n",
       "      <td>0.458</td>\n",
       "      <td>6.998</td>\n",
       "      <td>45.8</td>\n",
       "      <td>6.0622</td>\n",
       "      <td>3</td>\n",
       "      <td>222</td>\n",
       "      <td>18.7</td>\n",
       "      <td>394.63</td>\n",
       "      <td>2.94</td>\n",
       "      <td>33.4</td>\n",
       "    </tr>\n",
       "    <tr>\n",
       "      <th>4</th>\n",
       "      <td>0.06905</td>\n",
       "      <td>0.0</td>\n",
       "      <td>2.18</td>\n",
       "      <td>0.0</td>\n",
       "      <td>0.458</td>\n",
       "      <td>7.147</td>\n",
       "      <td>54.2</td>\n",
       "      <td>6.0622</td>\n",
       "      <td>3</td>\n",
       "      <td>222</td>\n",
       "      <td>18.7</td>\n",
       "      <td>396.90</td>\n",
       "      <td>NaN</td>\n",
       "      <td>36.2</td>\n",
       "    </tr>\n",
       "  </tbody>\n",
       "</table>\n",
       "</div>"
      ],
      "text/plain": [
       "      CRIM    ZN  INDUS  CHAS    NOX     RM   AGE     DIS  RAD  TAX  PTRATIO  \\\n",
       "0  0.00632  18.0   2.31   0.0  0.538  6.575  65.2  4.0900    1  296     15.3   \n",
       "1  0.02731   0.0   7.07   0.0  0.469  6.421  78.9  4.9671    2  242     17.8   \n",
       "2  0.02729   0.0   7.07   0.0  0.469  7.185  61.1  4.9671    2  242     17.8   \n",
       "3  0.03237   0.0   2.18   0.0  0.458  6.998  45.8  6.0622    3  222     18.7   \n",
       "4  0.06905   0.0   2.18   0.0  0.458  7.147  54.2  6.0622    3  222     18.7   \n",
       "\n",
       "        B  LSTAT  MEDV  \n",
       "0  396.90   4.98  24.0  \n",
       "1  396.90   9.14  21.6  \n",
       "2  392.83   4.03  34.7  \n",
       "3  394.63   2.94  33.4  \n",
       "4  396.90    NaN  36.2  "
      ]
     },
     "execution_count": 66,
     "metadata": {},
     "output_type": "execute_result"
    }
   ],
   "source": [
    "df.head()"
   ]
  },
  {
   "cell_type": "code",
   "execution_count": 67,
   "id": "db34dfec-7bef-4183-8115-948697da8bb1",
   "metadata": {},
   "outputs": [
    {
     "data": {
      "text/plain": [
       "(506, 14)"
      ]
     },
     "execution_count": 67,
     "metadata": {},
     "output_type": "execute_result"
    }
   ],
   "source": [
    "df.shape"
   ]
  },
  {
   "cell_type": "markdown",
   "id": "f6f0d7b3-bd67-488d-8149-1f4fa3c4e27c",
   "metadata": {},
   "source": [
    "# Handling missing value"
   ]
  },
  {
   "cell_type": "code",
   "execution_count": 68,
   "id": "0fa647ce-8734-45e6-b9d5-41e53c059453",
   "metadata": {},
   "outputs": [],
   "source": [
    "missing_value=df.isnull()"
   ]
  },
  {
   "cell_type": "code",
   "execution_count": 69,
   "id": "a118cc53-9d40-4a07-a1d9-4d4670599e67",
   "metadata": {},
   "outputs": [
    {
     "name": "stdout",
     "output_type": "stream",
     "text": [
      "CRIM\n",
      "False    486\n",
      "True      20\n",
      "Name: count, dtype: int64\n",
      "ZN\n",
      "False    486\n",
      "True      20\n",
      "Name: count, dtype: int64\n",
      "INDUS\n",
      "False    486\n",
      "True      20\n",
      "Name: count, dtype: int64\n",
      "CHAS\n",
      "False    486\n",
      "True      20\n",
      "Name: count, dtype: int64\n",
      "NOX\n",
      "False    506\n",
      "Name: count, dtype: int64\n",
      "RM\n",
      "False    506\n",
      "Name: count, dtype: int64\n",
      "AGE\n",
      "False    486\n",
      "True      20\n",
      "Name: count, dtype: int64\n",
      "DIS\n",
      "False    506\n",
      "Name: count, dtype: int64\n",
      "RAD\n",
      "False    506\n",
      "Name: count, dtype: int64\n",
      "TAX\n",
      "False    506\n",
      "Name: count, dtype: int64\n",
      "PTRATIO\n",
      "False    506\n",
      "Name: count, dtype: int64\n",
      "B\n",
      "False    506\n",
      "Name: count, dtype: int64\n",
      "LSTAT\n",
      "False    486\n",
      "True      20\n",
      "Name: count, dtype: int64\n",
      "MEDV\n",
      "False    506\n",
      "Name: count, dtype: int64\n"
     ]
    }
   ],
   "source": [
    "for column in missing_value:\n",
    "    print(missing_value[column].value_counts())"
   ]
  },
  {
   "cell_type": "code",
   "execution_count": 70,
   "id": "b72c2b43-941e-4bfd-a07a-d7f7699ff1c3",
   "metadata": {},
   "outputs": [
    {
     "data": {
      "text/plain": [
       "<Axes: >"
      ]
     },
     "execution_count": 70,
     "metadata": {},
     "output_type": "execute_result"
    },
    {
     "data": {
      "image/png": "[encoded data removed]",
      "text/plain": [
       "<Figure size 640x480 with 1 Axes>"
      ]
     },
     "metadata": {},
     "output_type": "display_data"
    }
   ],
   "source": [
    "df.CRIM.plot(kind='box')"
   ]
  },
  {
   "cell_type": "code",
   "execution_count": 71,
   "id": "ea7ebfcb-2417-4dae-8b43-ef9b3c1a79ab",
   "metadata": {},
   "outputs": [
    {
     "data": {
      "text/plain": [
       "Index(['CRIM', 'ZN', 'INDUS', 'CHAS', 'NOX', 'RM', 'AGE', 'DIS', 'RAD', 'TAX',\n",
       "       'PTRATIO', 'B', 'LSTAT', 'MEDV'],\n",
       "      dtype='object')"
      ]
     },
     "execution_count": 71,
     "metadata": {},
     "output_type": "execute_result"
    }
   ],
   "source": [
    "df.columns"
   ]
  },
  {
   "cell_type": "code",
   "execution_count": 72,
   "id": "8296495a-8d7d-47d3-8d64-e1e02350b791",
   "metadata": {},
   "outputs": [
    {
     "data": {
      "text/plain": [
       "<Axes: >"
      ]
     },
     "execution_count": 72,
     "metadata": {},
     "output_type": "execute_result"
    },
    {
     "data": {
      "image/png": "[encoded data removed]",
      "text/plain": [
       "<Figure size 640x480 with 1 Axes>"
      ]
     },
     "metadata": {},
     "output_type": "display_data"
    }
   ],
   "source": [
    "df.ZN.plot(kind='box')"
   ]
  },
  {
   "cell_type": "code",
   "execution_count": 73,
   "id": "f6aab1a5-bfa5-4531-a3a0-557f78686bad",
   "metadata": {},
   "outputs": [
    {
     "data": {
      "text/plain": [
       "<Axes: >"
      ]
     },
     "execution_count": 73,
     "metadata": {},
     "output_type": "execute_result"
    },
    {
     "data": {
      "image/png": "[encoded data removed]",
      "text/plain": [
       "<Figure size 640x480 with 1 Axes>"
      ]
     },
     "metadata": {},
     "output_type": "display_data"
    }
   ],
   "source": [
    "df.RM.plot(kind='box')"
   ]
  },
  {
   "cell_type": "code",
   "execution_count": 74,
   "id": "9ee83ad9-f614-494c-b184-fbf762382e1b",
   "metadata": {},
   "outputs": [
    {
     "data": {
      "text/plain": [
       "<Axes: >"
      ]
     },
     "execution_count": 74,
     "metadata": {},
     "output_type": "execute_result"
    },
    {
     "data": {
      "image/png": "[encoded data removed]",
      "text/plain": [
       "<Figure size 640x480 with 1 Axes>"
      ]
     },
     "metadata": {},
     "output_type": "display_data"
    }
   ],
   "source": [
    "df.LSTAT.plot(kind='box')"
   ]
  },
  {
   "cell_type": "code",
   "execution_count": 75,
   "id": "4c8fa29a-4ffb-4068-a269-c3fca1be7e41",
   "metadata": {},
   "outputs": [
    {
     "data": {
      "text/plain": [
       "<Axes: >"
      ]
     },
     "execution_count": 75,
     "metadata": {},
     "output_type": "execute_result"
    },
    {
     "data": {
      "image/png": "[encoded data removed]",
      "text/plain": [
       "<Figure size 640x480 with 1 Axes>"
      ]
     },
     "metadata": {},
     "output_type": "display_data"
    }
   ],
   "source": [
    "df.MEDV.plot(kind='box')"
   ]
  },
  {
   "cell_type": "code",
   "execution_count": 76,
   "id": "6aaf4bdb-e716-4490-bed1-ada9042d0162",
   "metadata": {},
   "outputs": [],
   "source": [
    "# so these are having outlier so we will replace with the median value"
   ]
  },
  {
   "cell_type": "code",
   "execution_count": 77,
   "id": "d89943da-0df5-4750-a88b-2f93ca7a18c9",
   "metadata": {},
   "outputs": [
    {
     "name": "stdout",
     "output_type": "stream",
     "text": [
      "The median of CRIM is 0.253715.\n"
     ]
    }
   ],
   "source": [
    "median_crim=df['CRIM'].median()\n",
    "print(f\"The median of CRIM is {median_crim}.\")"
   ]
  },
  {
   "cell_type": "code",
   "execution_count": 78,
   "id": "3fec4244-5dac-438d-9ffa-d5739724dc48",
   "metadata": {},
   "outputs": [],
   "source": [
    "df['CRIM']=df['CRIM'].replace(np.nan,median_crim)"
   ]
  },
  {
   "cell_type": "code",
   "execution_count": 79,
   "id": "de69dd06-ec77-47a6-98c2-dd2890a2b07f",
   "metadata": {},
   "outputs": [
    {
     "name": "stdout",
     "output_type": "stream",
     "text": [
      "The median of Zn is0.0\n"
     ]
    }
   ],
   "source": [
    "median_zn=df.ZN.median()\n",
    "print(f\"The median of Zn is{median_zn}\")"
   ]
  },
  {
   "cell_type": "code",
   "execution_count": 80,
   "id": "e90322af-fd55-423b-a59a-d63647a4e9ca",
   "metadata": {},
   "outputs": [],
   "source": [
    "df['ZN']=df['ZN'].replace(np.nan,median_zn)"
   ]
  },
  {
   "cell_type": "code",
   "execution_count": 81,
   "id": "9d6df173-a7af-45e8-9b23-22d27aeab2d3",
   "metadata": {},
   "outputs": [
    {
     "name": "stdout",
     "output_type": "stream",
     "text": [
      "The median of Indus is 9.69.\n"
     ]
    }
   ],
   "source": [
    "median_Indus=df['INDUS'].median()\n",
    "print(f\"The median of Indus is {median_Indus}.\")"
   ]
  },
  {
   "cell_type": "code",
   "execution_count": 82,
   "id": "b1dbb0b9-c681-4543-b232-8b62b1a31ced",
   "metadata": {},
   "outputs": [],
   "source": [
    "df['INDUS']=df['INDUS'].replace(np.nan,median_Indus)"
   ]
  },
  {
   "cell_type": "code",
   "execution_count": 83,
   "id": "9a269e0e-e3bb-4d6c-be17-7e7878be9cf6",
   "metadata": {},
   "outputs": [
    {
     "name": "stdout",
     "output_type": "stream",
     "text": [
      "The median is 0.0\n"
     ]
    }
   ],
   "source": [
    "median_chas=df.CHAS.median()\n",
    "print(\"The median is\",median_chas)"
   ]
  },
  {
   "cell_type": "code",
   "execution_count": 84,
   "id": "65805e47-b687-4c08-879e-d6772f5dfa96",
   "metadata": {},
   "outputs": [],
   "source": [
    "df['CHAS']=df['CHAS'].replace(np.nan,median_chas)"
   ]
  },
  {
   "cell_type": "code",
   "execution_count": 85,
   "id": "3a2b89c0-41f3-4fa7-819a-d1cf41d2cb54",
   "metadata": {},
   "outputs": [],
   "source": [
    "median_age=df.AGE.median()"
   ]
  },
  {
   "cell_type": "code",
   "execution_count": 86,
   "id": "7b45760e-0245-47ed-a93a-10c51d74b49b",
   "metadata": {},
   "outputs": [],
   "source": [
    "df['AGE']=df['AGE'].replace(np.nan,median_age)"
   ]
  },
  {
   "cell_type": "code",
   "execution_count": 87,
   "id": "a2923021-37cb-42a8-9d19-19e2e93fc613",
   "metadata": {},
   "outputs": [],
   "source": [
    "median_Lstat=df.LSTAT.median()"
   ]
  },
  {
   "cell_type": "code",
   "execution_count": 88,
   "id": "5da52009-5468-4355-ba3f-c98329cbde24",
   "metadata": {},
   "outputs": [],
   "source": [
    "df['LSTAT']=df['LSTAT'].replace(np.nan,median_Lstat)"
   ]
  },
  {
   "cell_type": "code",
   "execution_count": 89,
   "id": "dd6a23cd-eed4-410a-97d6-b5451b057f38",
   "metadata": {},
   "outputs": [
    {
     "data": {
      "text/plain": [
       "CRIM   ZN     INDUS  CHAS   NOX    RM     AGE    DIS    RAD    TAX    PTRATIO  B      LSTAT  MEDV \n",
       "False  False  False  False  False  False  False  False  False  False  False    False  False  False    506\n",
       "Name: count, dtype: int64"
      ]
     },
     "execution_count": 89,
     "metadata": {},
     "output_type": "execute_result"
    }
   ],
   "source": [
    "df.isnull().value_counts()"
   ]
  },
  {
   "cell_type": "markdown",
   "id": "851501b9-b626-4bf0-83a9-c50e75d2746e",
   "metadata": {},
   "source": [
    "# dealing with Outlier"
   ]
  },
  {
   "cell_type": "code",
   "execution_count": 90,
   "id": "a1141442-5b3a-4a02-9aaa-4cae177bd029",
   "metadata": {},
   "outputs": [
    {
     "name": "stdout",
     "output_type": "stream",
     "text": [
      "(338, 14)\n"
     ]
    }
   ],
   "source": [
    "# Identify columns with outliers\n",
    "columns_with_outliers = ['CRIM', 'ZN', 'INDUS', 'CHAS', 'AGE', 'LSTAT']\n",
    "\n",
    "for column in columns_with_outliers:\n",
    "    Q1 = df[column].quantile(0.25)\n",
    "    Q3 = df[column].quantile(0.75)\n",
    "    IQR = Q3 - Q1\n",
    "    lower_bound = Q1 - 1.5 * IQR\n",
    "    upper_bound = Q3 + 1.5 * IQR\n",
    "    df = df[(df[column] >= lower_bound) & (df[column] <= upper_bound)]\n",
    "# Verify the changes\n",
    "print(df.shape)"
   ]
  },
  {
   "cell_type": "code",
   "execution_count": 94,
   "id": "4f340210-475f-44d0-b974-0f78bad89661",
   "metadata": {},
   "outputs": [],
   "source": [
    "from sklearn.model_selection import train_test_split\n",
    "x=df.drop('MEDV',axis=1)\n",
    "y=df['MEDV']\n",
    "# Split dataset\n",
    "X_train, X_test, y_train, y_test = train_test_split(x, y, test_size=0.2, random_state=42)\n",
    "import pandas as pd\n"
   ]
  },
  {
   "cell_type": "code",
   "execution_count": 99,
   "id": "453d4469-ad07-44d7-90d2-09700257d205",
   "metadata": {},
   "outputs": [
    {
     "name": "stdout",
     "output_type": "stream",
     "text": [
      "        CRIM    ZN  INDUS  CHAS    NOX     RM   AGE     DIS  RAD  TAX  \\\n",
      "0    0.00632  18.0   2.31   0.0  0.538  6.575  65.2  4.0900    1  296   \n",
      "1    0.02731   0.0   7.07   0.0  0.469  6.421  78.9  4.9671    2  242   \n",
      "2    0.02729   0.0   7.07   0.0  0.469  7.185  61.1  4.9671    2  242   \n",
      "3    0.03237   0.0   2.18   0.0  0.458  6.998  45.8  6.0622    3  222   \n",
      "4    0.06905   0.0   2.18   0.0  0.458  7.147  54.2  6.0622    3  222   \n",
      "..       ...   ...    ...   ...    ...    ...   ...     ...  ...  ...   \n",
      "501  0.06263   0.0  11.93   0.0  0.573  6.593  69.1  2.4786    1  273   \n",
      "502  0.04527   0.0  11.93   0.0  0.573  6.120  76.7  2.2875    1  273   \n",
      "503  0.06076   0.0  11.93   0.0  0.573  6.976  91.0  2.1675    1  273   \n",
      "504  0.10959   0.0  11.93   0.0  0.573  6.794  89.3  2.3889    1  273   \n",
      "505  0.04741   0.0  11.93   0.0  0.573  6.030  76.8  2.5050    1  273   \n",
      "\n",
      "     PTRATIO       B  LSTAT  \n",
      "0       15.3  396.90   4.98  \n",
      "1       17.8  396.90   9.14  \n",
      "2       17.8  392.83   4.03  \n",
      "3       18.7  394.63   2.94  \n",
      "4       18.7  396.90  11.43  \n",
      "..       ...     ...    ...  \n",
      "501     21.0  391.99  11.43  \n",
      "502     21.0  396.90   9.08  \n",
      "503     21.0  396.90   5.64  \n",
      "504     21.0  393.45   6.48  \n",
      "505     21.0  396.90   7.88  \n",
      "\n",
      "[338 rows x 13 columns]\n"
     ]
    }
   ],
   "source": [
    "print(x)"
   ]
  },
  {
   "cell_type": "code",
   "execution_count": 100,
   "id": "3b1cce96-e7c2-4ab7-b3c5-28466448bbcd",
   "metadata": {},
   "outputs": [],
   "source": [
    "class LinearRegression:\n",
    "    def __init__(self):\n",
    "        self.weights = None\n",
    "        self.bias = None\n",
    "\n",
    "    def fit(self, X, y, learning_rate=0.01, epochs=1000):\n",
    "        # Initialize parameters\n",
    "        n_samples, n_features = X.shape\n",
    "        self.weights = np.zeros(n_features)\n",
    "        self.bias = 0\n",
    "\n",
    "        # Gradient Descent\n",
    "        for _ in range(epochs):\n",
    "            y_predicted = np.dot(X, self.weights) + self.bias\n",
    "            \n",
    "            # Compute gradients\n",
    "            dw = -(2/n_samples) * np.dot(X.T, (y - y_predicted))\n",
    "            db = -(2/n_samples) * np.sum(y - y_predicted)\n",
    "\n",
    "            # Update parameters\n",
    "            self.weights -= learning_rate * dw\n",
    "            self.bias -= learning_rate * db\n",
    "\n",
    "    def predict(self, X):\n",
    "        return np.dot(X, self.weights) + self.bias\n"
   ]
  },
  {
   "cell_type": "code",
   "execution_count": 101,
   "id": "f3f12bf5-0f32-475d-a8f3-71b16fa62e39",
   "metadata": {},
   "outputs": [],
   "source": [
    "model=LinearRegression()\n",
    "model.fit(X_train,y_train)"
   ]
  },
  {
   "cell_type": "code",
   "execution_count": 102,
   "id": "6dc6be28-bcb9-432a-a394-136619f1618a",
   "metadata": {},
   "outputs": [],
   "source": [
    "y_predic=model.predict(X_test)"
   ]
  },
  {
   "cell_type": "code",
   "execution_count": 105,
   "id": "41154faa-76e1-4d49-96a6-009cd2587680",
   "metadata": {},
   "outputs": [],
   "source": [
    "# # Calculate performance metrics \n",
    "# mse = mean_squared_error(y_test, y_predic)\n",
    "# rmse = np.sqrt(mse)\n",
    "# r2 = r2_score(y_test, y_predic)\n",
    "# print(f\"Mean Squared Error: {mse}\") \n",
    "# print(f\"Root Mean Squared Error: {rmse}\")\n",
    "# print(f\"R-squared: {r2}\")\n",
    "# # Visualize the results \n",
    "# plt.scatter(Y_test, predictions)\n",
    "# plt.xlabel(\"Actual Values\") \n",
    "# plt.ylabel(\"Predicted Values\") \n",
    "# plt.title(\"Actual vs Predicted Values\")\n",
    "# plt.show()"
   ]
  },
  {
   "cell_type": "code",
   "execution_count": 106,
   "id": "0c396524-f157-4155-a0f1-a6e83a0aa835",
   "metadata": {},
   "outputs": [],
   "source": [
    "def bootstrap_sample(X, y):\n",
    "    n_samples = X.shape[0]\n",
    "    indices = np.random.choice(n_samples, size=n_samples, replace=True)\n",
    "    return X[indices], y[indices]\n",
    "\n",
    "def most_common_label(y):\n",
    "    counter = Counter(y)\n",
    "    return counter.most_common(1)[0][0]\n"
   ]
  },
  {
   "cell_type": "code",
   "execution_count": 107,
   "id": "a93d6ac7-506d-46f0-bea3-cf01200d8e5c",
   "metadata": {},
   "outputs": [],
   "source": [
    "class DecisionTree:\n",
    "    def __init__(self, max_depth=10):\n",
    "        self.max_depth = max_depth\n",
    "\n",
    "    def fit(self, X, y):\n",
    "        self.n_classes = len(set(y))\n",
    "        self.n_features = X.shape[1]\n",
    "        self.tree = self._grow_tree(X, y)\n",
    "\n",
    "    def _grow_tree(self, X, y, depth=0):\n",
    "        n_samples, n_features = X.shape\n",
    "        if depth < self.max_depth and n_samples >= 2:\n",
    "            best_split = self._best_split(X, y, n_features)\n",
    "            if best_split:\n",
    "                left_tree = self._grow_tree(*best_split['left'], depth + 1)\n",
    "                right_tree = self._grow_tree(*best_split['right'], depth + 1)\n",
    "                return Node(best_split['feature'], best_split['threshold'], left_tree, right_tree)\n",
    "        return Leaf(most_common_label(y))\n",
    "\n",
    "    def _best_split(self, X, y, n_features):\n",
    "        best_split = {}\n",
    "        max_gain = -1\n",
    "        for feature in range(n_features):\n",
    "            thresholds = np.unique(X[:, feature])\n",
    "            for threshold in thresholds:\n",
    "                gain = self._information_gain(X, y, feature, threshold)\n",
    "                if gain > max_gain:\n",
    "                    max_gain = gain\n",
    "                    best_split = {\n",
    "                        'feature': feature,\n",
    "                        'threshold': threshold,\n",
    "                        'left': (X[X[:, feature] <= threshold], y[X[:, feature] <= threshold]),\n",
    "                        'right': (X[X[:, feature] > threshold], y[X[:, feature] > threshold])\n",
    "                    }\n",
    "        return best_split if max_gain > 0 else None\n",
    "\n",
    "    def _information_gain(self, X, y, feature, threshold):\n",
    "        parent_entropy = self._entropy(y)\n",
    "        left_indices = X[:, feature] <= threshold\n",
    "        right_indices = X[:, feature] > threshold\n",
    "        n, n_left, n_right = len(y), sum(left_indices), sum(right_indices)\n",
    "        if n_left == 0 or n_right == 0:\n",
    "            return 0\n",
    "        child_entropy = (n_left / n) * self._entropy(y[left_indices]) + (n_right / n) * self._entropy(y[right_indices])\n",
    "        return parent_entropy - child_entropy\n",
    "\n",
    "    def _entropy(self, y):\n",
    "        hist = np.bincount(y)\n",
    "        ps = hist / len(y)\n",
    "        return -np.sum([p * np.log2(p) for p in ps if p > 0])\n",
    "\n",
    "    def predict(self, X):\n",
    "        return np.array([self._predict(inputs) for inputs in X])\n",
    "\n",
    "    def _predict(self, inputs):\n",
    "        node = self.tree\n",
    "        while isinstance(node, Node):\n",
    "            if inputs[node.feature] <= node.threshold:\n",
    "                node = node.left\n",
    "            else:\n",
    "                node = node.right\n",
    "        return node.value\n"
   ]
  },
  {
   "cell_type": "code",
   "execution_count": 108,
   "id": "cd4ffdf6-dc16-4b66-ba64-8b8aaac14b40",
   "metadata": {},
   "outputs": [],
   "source": [
    "class Node:\n",
    "    def __init__(self, feature, threshold, left, right):\n",
    "        self.feature = feature\n",
    "        self.threshold = threshold\n",
    "        self.left = left\n",
    "        self.right = right\n",
    "\n",
    "class Leaf:\n",
    "    def __init__(self, value):\n",
    "        self.value = value\n"
   ]
  },
  {
   "cell_type": "code",
   "execution_count": 109,
   "id": "1af9d458-a1b8-4605-9d38-35b5dd83363e",
   "metadata": {},
   "outputs": [],
   "source": [
    "class RandomForest:\n",
    "    def __init__(self, n_trees=10, max_depth=10):\n",
    "        self.n_trees = n_trees\n",
    "        self.max_depth = max_depth\n",
    "        self.trees = []\n",
    "\n",
    "    def fit(self, X, y):\n",
    "        self.trees = []\n",
    "        for _ in range(self.n_trees):\n",
    "            tree = DecisionTree(max_depth=self.max_depth)\n",
    "            X_sample, y_sample = bootstrap_sample(X, y)\n",
    "            tree.fit(X_sample, y_sample)\n",
    "            self.trees.append(tree)\n",
    "\n",
    "    def predict(self, X):\n",
    "        tree_preds = np.array([tree.predict(X) for tree in self.trees])\n",
    "        tree_preds = np.swapaxes(tree_preds, 0, 1)\n",
    "        return np.array([most_common_label(tree_pred) for tree_pred in tree_preds])\n"
   ]
  },
  {
   "cell_type": "code",
   "execution_count": 110,
   "id": "75e83a2d-dd9c-4c0c-ac14-873aee008d38",
   "metadata": {},
   "outputs": [],
   "source": [
    "rf=RandomForest(n_trees=10,max_depth=10)"
   ]
  },
  {
   "cell_type": "code",
   "execution_count": 111,
   "id": "c07d8aec-fa42-42c3-b4e7-bced30bb9652",
   "metadata": {},
   "outputs": [
    {
     "ename": "KeyError",
     "evalue": "\"None of [Index([103, 119,  36, 219, 147, 143, 191,  13, 217, 179,\\n       ...\\n       123, 201,  85, 183,  93,  42,  95, 160,  53, 170],\\n      dtype='int32', length=270)] are in the [columns]\"",
     "output_type": "error",
     "traceback": [
      "\u001b[1;31m---------------------------------------------------------------------------\u001b[0m",
      "\u001b[1;31mKeyError\u001b[0m                                  Traceback (most recent call last)",
      "Cell \u001b[1;32mIn[111], line 1\u001b[0m\n\u001b[1;32m----> 1\u001b[0m rf\u001b[38;5;241m.\u001b[39mfit(X_train,y_train)\n",
      "Cell \u001b[1;32mIn[109], line 11\u001b[0m, in \u001b[0;36mRandomForest.fit\u001b[1;34m(self, X, y)\u001b[0m\n\u001b[0;32m      9\u001b[0m \u001b[38;5;28;01mfor\u001b[39;00m _ \u001b[38;5;129;01min\u001b[39;00m \u001b[38;5;28mrange\u001b[39m(\u001b[38;5;28mself\u001b[39m\u001b[38;5;241m.\u001b[39mn_trees):\n\u001b[0;32m     10\u001b[0m     tree \u001b[38;5;241m=\u001b[39m DecisionTree(max_depth\u001b[38;5;241m=\u001b[39m\u001b[38;5;28mself\u001b[39m\u001b[38;5;241m.\u001b[39mmax_depth)\n\u001b[1;32m---> 11\u001b[0m     X_sample, y_sample \u001b[38;5;241m=\u001b[39m bootstrap_sample(X, y)\n\u001b[0;32m     12\u001b[0m     tree\u001b[38;5;241m.\u001b[39mfit(X_sample, y_sample)\n\u001b[0;32m     13\u001b[0m     \u001b[38;5;28mself\u001b[39m\u001b[38;5;241m.\u001b[39mtrees\u001b[38;5;241m.\u001b[39mappend(tree)\n",
      "Cell \u001b[1;32mIn[106], line 4\u001b[0m, in \u001b[0;36mbootstrap_sample\u001b[1;34m(X, y)\u001b[0m\n\u001b[0;32m      2\u001b[0m n_samples \u001b[38;5;241m=\u001b[39m X\u001b[38;5;241m.\u001b[39mshape[\u001b[38;5;241m0\u001b[39m]\n\u001b[0;32m      3\u001b[0m indices \u001b[38;5;241m=\u001b[39m np\u001b[38;5;241m.\u001b[39mrandom\u001b[38;5;241m.\u001b[39mchoice(n_samples, size\u001b[38;5;241m=\u001b[39mn_samples, replace\u001b[38;5;241m=\u001b[39m\u001b[38;5;28;01mTrue\u001b[39;00m)\n\u001b[1;32m----> 4\u001b[0m \u001b[38;5;28;01mreturn\u001b[39;00m X[indices], y[indices]\n",
      "File \u001b[1;32m~\\anaconda3\\Lib\\site-packages\\pandas\\core\\frame.py:3899\u001b[0m, in \u001b[0;36mDataFrame.__getitem__\u001b[1;34m(self, key)\u001b[0m\n\u001b[0;32m   3897\u001b[0m     \u001b[38;5;28;01mif\u001b[39;00m is_iterator(key):\n\u001b[0;32m   3898\u001b[0m         key \u001b[38;5;241m=\u001b[39m \u001b[38;5;28mlist\u001b[39m(key)\n\u001b[1;32m-> 3899\u001b[0m     indexer \u001b[38;5;241m=\u001b[39m \u001b[38;5;28mself\u001b[39m\u001b[38;5;241m.\u001b[39mcolumns\u001b[38;5;241m.\u001b[39m_get_indexer_strict(key, \u001b[38;5;124m\"\u001b[39m\u001b[38;5;124mcolumns\u001b[39m\u001b[38;5;124m\"\u001b[39m)[\u001b[38;5;241m1\u001b[39m]\n\u001b[0;32m   3901\u001b[0m \u001b[38;5;66;03m# take() does not accept boolean indexers\u001b[39;00m\n\u001b[0;32m   3902\u001b[0m \u001b[38;5;28;01mif\u001b[39;00m \u001b[38;5;28mgetattr\u001b[39m(indexer, \u001b[38;5;124m\"\u001b[39m\u001b[38;5;124mdtype\u001b[39m\u001b[38;5;124m\"\u001b[39m, \u001b[38;5;28;01mNone\u001b[39;00m) \u001b[38;5;241m==\u001b[39m \u001b[38;5;28mbool\u001b[39m:\n",
      "File \u001b[1;32m~\\anaconda3\\Lib\\site-packages\\pandas\\core\\indexes\\base.py:6115\u001b[0m, in \u001b[0;36mIndex._get_indexer_strict\u001b[1;34m(self, key, axis_name)\u001b[0m\n\u001b[0;32m   6112\u001b[0m \u001b[38;5;28;01melse\u001b[39;00m:\n\u001b[0;32m   6113\u001b[0m     keyarr, indexer, new_indexer \u001b[38;5;241m=\u001b[39m \u001b[38;5;28mself\u001b[39m\u001b[38;5;241m.\u001b[39m_reindex_non_unique(keyarr)\n\u001b[1;32m-> 6115\u001b[0m \u001b[38;5;28mself\u001b[39m\u001b[38;5;241m.\u001b[39m_raise_if_missing(keyarr, indexer, axis_name)\n\u001b[0;32m   6117\u001b[0m keyarr \u001b[38;5;241m=\u001b[39m \u001b[38;5;28mself\u001b[39m\u001b[38;5;241m.\u001b[39mtake(indexer)\n\u001b[0;32m   6118\u001b[0m \u001b[38;5;28;01mif\u001b[39;00m \u001b[38;5;28misinstance\u001b[39m(key, Index):\n\u001b[0;32m   6119\u001b[0m     \u001b[38;5;66;03m# GH 42790 - Preserve name from an Index\u001b[39;00m\n",
      "File \u001b[1;32m~\\anaconda3\\Lib\\site-packages\\pandas\\core\\indexes\\base.py:6176\u001b[0m, in \u001b[0;36mIndex._raise_if_missing\u001b[1;34m(self, key, indexer, axis_name)\u001b[0m\n\u001b[0;32m   6174\u001b[0m     \u001b[38;5;28;01mif\u001b[39;00m use_interval_msg:\n\u001b[0;32m   6175\u001b[0m         key \u001b[38;5;241m=\u001b[39m \u001b[38;5;28mlist\u001b[39m(key)\n\u001b[1;32m-> 6176\u001b[0m     \u001b[38;5;28;01mraise\u001b[39;00m \u001b[38;5;167;01mKeyError\u001b[39;00m(\u001b[38;5;124mf\u001b[39m\u001b[38;5;124m\"\u001b[39m\u001b[38;5;124mNone of [\u001b[39m\u001b[38;5;132;01m{\u001b[39;00mkey\u001b[38;5;132;01m}\u001b[39;00m\u001b[38;5;124m] are in the [\u001b[39m\u001b[38;5;132;01m{\u001b[39;00maxis_name\u001b[38;5;132;01m}\u001b[39;00m\u001b[38;5;124m]\u001b[39m\u001b[38;5;124m\"\u001b[39m)\n\u001b[0;32m   6178\u001b[0m not_found \u001b[38;5;241m=\u001b[39m \u001b[38;5;28mlist\u001b[39m(ensure_index(key)[missing_mask\u001b[38;5;241m.\u001b[39mnonzero()[\u001b[38;5;241m0\u001b[39m]]\u001b[38;5;241m.\u001b[39munique())\n\u001b[0;32m   6179\u001b[0m \u001b[38;5;28;01mraise\u001b[39;00m \u001b[38;5;167;01mKeyError\u001b[39;00m(\u001b[38;5;124mf\u001b[39m\u001b[38;5;124m\"\u001b[39m\u001b[38;5;132;01m{\u001b[39;00mnot_found\u001b[38;5;132;01m}\u001b[39;00m\u001b[38;5;124m not in index\u001b[39m\u001b[38;5;124m\"\u001b[39m)\n",
      "\u001b[1;31mKeyError\u001b[0m: \"None of [Index([103, 119,  36, 219, 147, 143, 191,  13, 217, 179,\\n       ...\\n       123, 201,  85, 183,  93,  42,  95, 160,  53, 170],\\n      dtype='int32', length=270)] are in the [columns]\""
     ]
    }
   ],
   "source": [
    "rf.fit(X_train,y_train)"
   ]
  },
  {
   "cell_type": "code",
   "execution_count": null,
   "id": "ed12e539-6089-48b9-9fe7-005b29b1d5af",
   "metadata": {},
   "outputs": [],
   "source": []
  }
 ],
 "metadata": {
  "kernelspec": {
   "display_name": "Python 3 (ipykernel)",
   "language": "python",
   "name": "python3"
  },
  "language_info": {
   "codemirror_mode": {
    "name": "ipython",
    "version": 3
   },
   "file_extension": ".py",
   "mimetype": "text/x-python",
   "name": "python",
   "nbconvert_exporter": "python",
   "pygments_lexer": "ipython3",
   "version": "3.11.7"
  }
 },
 "nbformat": 4,
 "nbformat_minor": 5
}
